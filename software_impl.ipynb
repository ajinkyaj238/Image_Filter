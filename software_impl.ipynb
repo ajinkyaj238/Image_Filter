{
 "cells": [
  {
   "cell_type": "code",
   "execution_count": 1,
   "metadata": {},
   "outputs": [],
   "source": [
    "import cv2 \n",
    "from matplotlib import pyplot as plt\n",
    "\n",
    "\n",
    "def importImages():\n",
    "    \n",
    "    # original_image = cv2.imread('cameraman.jpg')\n",
    "    noisy_image = cv2.imread('noisycameraman.jpg')\n",
    "\n",
    "    # cv2.imshow('Image1', original_image)\n",
    "    cv2.imshow('Image', noisy_image)\n",
    "\n",
    "    cv2.waitKey(0)\n",
    "    cv2.destroyAllWindows()\n",
    "\n",
    "    return noisy_image"
   ]
  },
  {
   "cell_type": "code",
   "execution_count": 2,
   "metadata": {},
   "outputs": [],
   "source": [
    "def imagePixels(noisy_image):\n",
    "    \n",
    "    pixel_values = noisy_image.flatten()\n",
    "    pixel_values_normalized = (pixel_values - min(pixel_values)) * 255 / (max(pixel_values) - min(pixel_values))\n",
    "    pixel_values_normalized = pixel_values_normalized.astype(int)\n",
    "    print(pixel_values_normalized)\n",
    "\n",
    "    return pixel_values_normalized\n"
   ]
  },
  {
   "cell_type": "code",
   "execution_count": 3,
   "metadata": {},
   "outputs": [
    {
     "name": "stderr",
     "output_type": "stream",
     "text": [
      "Qt: Session management error: Could not open network socket\n"
     ]
    },
    {
     "name": "stdout",
     "output_type": "stream",
     "text": [
      "[0 0 0 ... 0 0 0]\n"
     ]
    },
    {
     "data": {
      "text/plain": [
       "array([0, 0, 0, ..., 0, 0, 0])"
      ]
     },
     "execution_count": 3,
     "metadata": {},
     "output_type": "execute_result"
    }
   ],
   "source": [
    "noisy_image = importImages()\n",
    "imagePixels(noisy_image)"
   ]
  },
  {
   "cell_type": "code",
   "execution_count": 5,
   "metadata": {},
   "outputs": [
    {
     "name": "stdout",
     "output_type": "stream",
     "text": [
      "256\n"
     ]
    }
   ],
   "source": [
    "lst = [4, 255, 255, 254, 1, 251, 255, 5, 255, 250, 255, 252, 252, 255, 253, 0, 255, 0, 255, 255, 0, 255, 250, 255, 246, 255, 245, 245, 255, 254, 255, 251, 0, 1, 1, 11, 0, 4, 0, 0, 0, 0, 0, 0, 0, 0, 0, 0, 3, 0, 7, 9, 0, 255, 2, 252, 1, 252, 255, 0, 246, 3, 0, 0, 8, 0, 0, 0, 0, 2, 0, 0, 0, 13, 0, 0, 3, 0, 2, 1, 3, 0, 255, 0, 254, 255, 241, 8, 2, 0, 253, 255, 0, 255, 244, 255, 1, 1, 0, 7, 250, 250, 255, 255, 255, 3, 0, 255, 255, 0, 255, 249, 2, 251, 5, 255, 2, 250, 255, 250, 6, 0, 255, 0, 255, 0, 249, 3, 255, 0, 3, 248, 255, 5, 0, 255, 0, 255, 3, 0, 4, 246, 255, 0, 255, 0, 255, 0, 253, 0, 255, 248, 3, 254, 255, 1, 6, 255, 5, 249, 251, 3, 255, 255, 0, 255, 255, 253, 254, 255, 0, 255, 249, 9, 252, 0, 252, 3, 252, 250, 0, 255, 0, 255, 255, 255, 0, 255, 252, 0, 9, 249, 0, 5, 255, 247, 2, 0, 255, 252, 0, 14, 251, 254, 255, 251, 252, 255, 255, 0, 255, 255, 0, 10, 249, 0, 252, 255, 0, 255, 252, 0, 255, 251, 251, 252, 253, 8, 252, 0, 252, 1, 250, 255, 3, 245, 4, 255, 252, 255, 255, 255, 255, 12, 243, 0, 253, 5, 255, 2, 255, 249, 254, 3, 255, 251]\n",
    "\n",
    "print(len(lst))\n"
   ]
  },
  {
   "cell_type": "code",
   "execution_count": 2,
   "metadata": {},
   "outputs": [
    {
     "name": "stdout",
     "output_type": "stream",
     "text": [
      "[[0.003663003663003663, 0.014652014652014652, 0.02564102564102564, 0.014652014652014652, 0.003663003663003663], [0.014652014652014652, 0.05860805860805861, 0.09523809523809523, 0.05860805860805861, 0.014652014652014652], [0.02564102564102564, 0.09523809523809523, 0.15018315018315018, 0.09523809523809523, 0.02564102564102564], [0.003663003663003663, 0.014652014652014652, 0.02564102564102564, 0.014652014652014652, 0.003663003663003663], [0.014652014652014652, 0.05860805860805861, 0.09523809523809523, 0.05860805860805861, 0.014652014652014652]]\n",
      "0.9999999999999999\n"
     ]
    }
   ],
   "source": [
    "kernel = [[1,4,7,4,1],[4,16,26,16,4],[7,26,41,26,7],[1,4,7,4,1],[4,16,26,16,4]]\n",
    "new_kernel = []\n",
    "for i in kernel:\n",
    "    new_kernel_row = []\n",
    "    for j in i:\n",
    "        new_kernel_row.append(j*(1/273))\n",
    "    \n",
    "    new_kernel.append(new_kernel_row)\n",
    "\n",
    "print(new_kernel)\n",
    "\n",
    "sum = 0\n",
    "for i in new_kernel:\n",
    "    for j in i:\n",
    "        sum = sum + j\n",
    "\n",
    "print(sum)"
   ]
  },
  {
   "cell_type": "code",
   "execution_count": 1,
   "metadata": {},
   "outputs": [
    {
     "name": "stdout",
     "output_type": "stream",
     "text": [
      "[[0.02040816326530612, 0.02040816326530612, 0.02040816326530612, 0.02040816326530612, 0.02040816326530612, 0.02040816326530612, 0.02040816326530612], [0.02040816326530612, 0.02040816326530612, 0.02040816326530612, 0.02040816326530612, 0.02040816326530612, 0.02040816326530612, 0.02040816326530612], [0.02040816326530612, 0.02040816326530612, 0.02040816326530612, 0.02040816326530612, 0.02040816326530612, 0.02040816326530612, 0.02040816326530612], [0.02040816326530612, 0.02040816326530612, 0.02040816326530612, 0.02040816326530612, 0.02040816326530612, 0.02040816326530612, 0.02040816326530612], [0.02040816326530612, 0.02040816326530612, 0.02040816326530612, 0.02040816326530612, 0.02040816326530612, 0.02040816326530612, 0.02040816326530612], [0.02040816326530612, 0.02040816326530612, 0.02040816326530612, 0.02040816326530612, 0.02040816326530612, 0.02040816326530612, 0.02040816326530612], [0.02040816326530612, 0.02040816326530612, 0.02040816326530612, 0.02040816326530612, 0.02040816326530612, 0.02040816326530612, 0.02040816326530612]]\n"
     ]
    }
   ],
   "source": [
    "# Define the dimensions of the 2D list\n",
    "rows = 7\n",
    "cols = 7\n",
    "\n",
    "# Compute the value of each element\n",
    "element_value = 1 / 49\n",
    "\n",
    "# Create the 2D list using list comprehension\n",
    "matrix = [[element_value for _ in range(cols)] for _ in range(rows)]\n",
    "\n",
    "# Print the matrix\n",
    "print(matrix)"
   ]
  },
  {
   "cell_type": "code",
   "execution_count": 1,
   "metadata": {},
   "outputs": [
    {
     "name": "stdout",
     "output_type": "stream",
     "text": [
      "[1.9651916124031903e-05, 0.00023940934949726983, 0.00107295826497866, 0.0017690091140438213, 0.00107295826497866, 0.00023940934949726983, 1.9651916124031903e-05]\n"
     ]
    },
    {
     "ename": "TypeError",
     "evalue": "unsupported operand type(s) for +: 'builtin_function_or_method' and 'float'",
     "output_type": "error",
     "traceback": [
      "\u001b[0;31m---------------------------------------------------------------------------\u001b[0m",
      "\u001b[0;31mTypeError\u001b[0m                                 Traceback (most recent call last)",
      "Cell \u001b[0;32mIn[1], line 26\u001b[0m\n\u001b[1;32m     24\u001b[0m     \u001b[38;5;28mprint\u001b[39m(row)\n\u001b[1;32m     25\u001b[0m     \u001b[38;5;28;01mfor\u001b[39;00m col \u001b[38;5;129;01min\u001b[39;00m row: \n\u001b[0;32m---> 26\u001b[0m         \u001b[38;5;28msum\u001b[39m \u001b[38;5;241m=\u001b[39m \u001b[38;5;28;43msum\u001b[39;49m\u001b[43m \u001b[49m\u001b[38;5;241;43m+\u001b[39;49m\u001b[43m \u001b[49m\u001b[43mcol\u001b[49m\n\u001b[1;32m     28\u001b[0m \u001b[38;5;28mprint\u001b[39m(\u001b[38;5;28msum\u001b[39m)\n\u001b[1;32m     30\u001b[0m \u001b[38;5;28mprint\u001b[39m(gaussian_kernel_7x7)\n",
      "\u001b[0;31mTypeError\u001b[0m: unsupported operand type(s) for +: 'builtin_function_or_method' and 'float'"
     ]
    }
   ],
   "source": [
    "import math\n",
    "\n",
    "def gaussian_kernel(size, sigma=1):\n",
    "    kernel = [[0] * size for _ in range(size)]\n",
    "    center = size // 2\n",
    "\n",
    "    total = 0\n",
    "    for x in range(size):\n",
    "        for y in range(size):\n",
    "            kernel[x][y] = math.exp(-((x - center)**2 + (y - center)**2) / (2 * sigma**2))\n",
    "            total += kernel[x][y]\n",
    "\n",
    "    # Normalize the kernel\n",
    "    for x in range(size):\n",
    "        for y in range(size):\n",
    "            kernel[x][y] /= total\n",
    "\n",
    "    return kernel\n",
    "\n",
    "size = 7\n",
    "sigma = 1\n",
    "gaussian_kernel_7x7 = gaussian_kernel(size, sigma)\n",
    "for row in gaussian_kernel_7x7:\n",
    "    print(row)\n",
    "    for col in row: \n",
    "        sum = sum + col\n",
    "\n",
    "print(sum)\n",
    "\n",
    "print(gaussian_kernel_7x7)\n",
    "\n",
    "print((len(gaussian_kernel_7x7)-1)/2)"
   ]
  }
 ],
 "metadata": {
  "kernelspec": {
   "display_name": "Python 3",
   "language": "python",
   "name": "python3"
  },
  "language_info": {
   "codemirror_mode": {
    "name": "ipython",
    "version": 3
   },
   "file_extension": ".py",
   "mimetype": "text/x-python",
   "name": "python",
   "nbconvert_exporter": "python",
   "pygments_lexer": "ipython3",
   "version": "3.11.7"
  }
 },
 "nbformat": 4,
 "nbformat_minor": 2
}
